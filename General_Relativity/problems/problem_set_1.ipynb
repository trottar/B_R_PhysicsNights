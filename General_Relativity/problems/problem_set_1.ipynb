{
 "cells": [
  {
   "cell_type": "markdown",
   "metadata": {},
   "source": [
    "# Problem set 1\n",
    "\n",
    "Started on July $16^{th}$, 2020. These problems are a simple review of the basic concepts in special relativity."
   ]
  },
  {
   "cell_type": "markdown",
   "metadata": {},
   "source": [
    "* 3.1 (pg. 45)\n",
    "> A free particle is moving in an inertial frame (x,y,z) in the x-y plane on a trajectory x = d, y = ut, where d and v are constants in time. Consider a rectangular frame (x',y',z') rotating with respect to the inertial frame with an angular velocity $\\omega$ about a common z-axis (z'= z). What are the equations of motion obeyed by x'(t), y'(t), and z'(t) in the rotating frame? Sketch the trajectory of the particle in the x'-y' plane and show explicitly that it satisfies these equations of motion."
   ]
  },
  {
   "cell_type": "markdown",
   "metadata": {},
   "source": [
    "$$\\frac{d}{dt}\\frac{\\partial L}{\\partial q}-\\frac{\\partial L}{\\partial \\dot{q}}=0$$\n",
    "$$x'=cos(\\omega t)(x-d)+sin(\\omega t)(y-ut)$$\n",
    "$$y'=-sin(\\omega t)(x-d)+cos(\\omega t)(y-ut)$$"
   ]
  },
  {
   "cell_type": "markdown",
   "metadata": {},
   "source": [
    "$$\\dot{x}'=cos(\\omega t)\\dot{x}-sin(\\omega t)\\omega x+sin(\\omega t)\\omega d+cos(\\omega t)\\omega y+sin(\\omega t)\\dot{y}-cos(\\omega t)\\omega ut-sin(\\omega t)u$$\n",
    "$$\\dot{x}'=cos(\\omega t)[\\dot{x}+\\omega y-\\omega ut]+sin(\\omega t)[\\dot{y}+\\omega d-\\omega x-u]$$\n",
    "$$\\dot{y}'=-sin(\\omega t)\\dot{x}-cos(\\omega t)\\omega x+cos(\\omega t)\\omega d+cos(\\omega t)\\dot{y}-sin(\\omega t)\\omega y+sin(\\omega t)\\omega ut-cos(\\omega t)u$$\n",
    "$$\\dot{y}'=cos(\\omega t)[\\dot{y}+\\omega d-\\omega x-u]+sin(\\omega t)[\\omega ut-\\dot{x}-\\omega y]$$\n",
    "<br>\n",
    "$$L=\\frac{1}{2}mv^2=\\frac{1}{2}m\\sqrt{\\dot{x}^{2'}+\\dot{y}^{2'}}$$\n",
    "$$L=\\frac{1}{2}m\\sqrt{(cos(\\omega t)[\\dot{x}+\\omega y-\\omega ut]+sin(\\omega t)[\\dot{y}+\\omega d-\\omega x-u])^{2'}+(cos(\\omega t)[\\dot{y}+\\omega d-\\omega x-u]+sin(\\omega t)[\\omega ut-\\dot{x}-\\omega y])^{2'}}$$"
   ]
  },
  {
   "cell_type": "markdown",
   "metadata": {},
   "source": [
    "* x'\n",
    "$$\\frac{d}{dt}\\frac{\\partial L}{\\partial x}=\\frac{d}{dt}\\frac{\\partial}{\\partial x}[\\frac{1}{2}m\\sqrt{(cos(\\omega t)[\\dot{x}+\\omega y-\\omega ut]+sin(\\omega t)[\\dot{y}+\\omega d-\\omega x-u])^{2'}+(cos(\\omega t)[\\dot{y}+\\omega d-\\omega x-u]+sin(\\omega t)[\\omega ut-\\dot{x}-\\omega y])^{2'}}]$$\n",
    "$$\\frac{\\partial L}{\\partial \\dot{x}}=\\frac{\\partial }{\\partial \\dot{x}}[\\frac{1}{2}m\\sqrt{(cos(\\omega t)[\\dot{x}+\\omega y-\\omega ut]+sin(\\omega t)[\\dot{y}+\\omega d-\\omega x-u])^{2'}+(cos(\\omega t)[\\dot{y}+\\omega d-\\omega x-u]+sin(\\omega t)[\\omega ut-\\dot{x}-\\omega y])^{2'}}]$$\n",
    "* y'\n",
    "$$\\frac{d}{dt}\\frac{\\partial L}{\\partial x}=\\frac{d}{dt}\\frac{\\partial}{\\partial y}[\\frac{1}{2}m\\sqrt{(cos(\\omega t)[\\dot{x}+\\omega y-\\omega ut]+sin(\\omega t)[\\dot{y}+\\omega d-\\omega x-u])^{2'}+(cos(\\omega t)[\\dot{y}+\\omega d-\\omega x-u]+sin(\\omega t)[\\omega ut-\\dot{x}-\\omega y])^{2'}}]$$\n",
    "$$\\frac{\\partial L}{\\partial \\dot{x}}=\\frac{\\partial }{\\partial \\dot{y}}[\\frac{1}{2}m\\sqrt{(cos(\\omega t)[\\dot{x}+\\omega y-\\omega ut]+sin(\\omega t)[\\dot{y}+\\omega d-\\omega x-u])^{2'}+(cos(\\omega t)[\\dot{y}+\\omega d-\\omega x-u]+sin(\\omega t)[\\omega ut-\\dot{x}-\\omega y])^{2'}}]$$\n",
    "* $z'(t)=z$\n",
    "\n",
    "\n",
    "Stopped after creating L, may use code to solve."
   ]
  },
  {
   "cell_type": "code",
   "execution_count": 1,
   "metadata": {},
   "outputs": [
    {
     "ename": "SyntaxError",
     "evalue": "invalid syntax (<ipython-input-1-11096b829e89>, line 9)",
     "output_type": "error",
     "traceback": [
      "\u001b[1;36m  File \u001b[1;32m\"<ipython-input-1-11096b829e89>\"\u001b[1;36m, line \u001b[1;32m9\u001b[0m\n\u001b[1;33m    L = (1/2)*m*sqrt((-sin(w*t)*w*d+cos(w*t)w*u*t+sin(w*t)*u)**2+(-cos(w*t)*w*d-sin(w*t)w*u*t+cos(w*t)*u)**2)\u001b[0m\n\u001b[1;37m                                            ^\u001b[0m\n\u001b[1;31mSyntaxError\u001b[0m\u001b[1;31m:\u001b[0m invalid syntax\n"
     ]
    }
   ],
   "source": [
    "from sympy import *\n",
    "import numpy as np\n",
    "\n",
    "m = \"mass\"\n",
    "w = \"omega\"\n",
    "d = \"x_constant\"\n",
    "u = \"y_constant\"\n",
    "\n",
    "L = (1/2)*m*sqrt((-sin(w*t)*w*d+cos(w*t)w*u*t+sin(w*t)*u)**2+(-cos(w*t)*w*d-sin(w*t)w*u*t+cos(w*t)*u)**2)\n",
    "\n",
    "dt_pL = [1,1]"
   ]
  },
  {
   "cell_type": "markdown",
   "metadata": {},
   "source": [
    "* 3.5 (pg. 46)\n",
    "> Conside the functional $$S[x(t)] = \\int_{0}^{T} [(\\frac{dx(t)}{dt})^2 + x^2(t)]dt.$$ <br>\n",
    "Find the curve x(t) satisfying the conditions $$x(0) = 0, x(T) = 1,$$ <br>\n",
    "which makes S[x(t)] an extremum. What is the extremum value of S[x(t)]? Is it a maximum or minimum?"
   ]
  },
  {
   "cell_type": "markdown",
   "metadata": {},
   "source": [
    "* 4.2 (pg. 73)\n",
    "> A rocket ship of proper length L leaves Each vertically at speed $\\frac{4}{5}c$. A light signal is sent vertically after it which arrives at the rocket's tail at t = 0 according to both rocket and Earth-based clocks. When does the signal reach the nose of the rocket according to <br>\n",
    "(a) the rocket clocks <br>\n",
    "(b) the Earth clocks"
   ]
  },
  {
   "cell_type": "markdown",
   "metadata": {},
   "source": [
    "* 4.4 (pg. 73)\n",
    "> A satellite orbits the Earth in the same direction it rotates in a circular orbit above the equator a distance 200 km from the surface. By how many seconds per day will a clock on such a satellite run slow compared to a clock on the Earth? (Compute just the special relativistic effects.)"
   ]
  },
  {
   "cell_type": "markdown",
   "metadata": {},
   "source": [
    "* 4.5 (pg. 74)\n",
    "> The radio source 3C345 is participating in the expansion of the universe, and its distance can be determined from the redshift arising from its recession velocity and assumptions about our universe. However, a rough idea of the distance can be obtained from Hubble's law relating distance d to observed recession velocity V: $$V = H_0d,$$ <br>\n",
    "where $H_0\\approx 72 (km/s)/Mpc$ is the Hubble constant. (Look at the endpapers for astronomical units such as megaparsec (Mpc).) V for 3C345 is about 0.6c. Use these facts together with the data in Box 4.3 on p. 61 to roughly estimate the velocity of the cloud C2 assuming (contrary to fact) that it is moving transverse to the line of sight."
   ]
  },
  {
   "cell_type": "markdown",
   "metadata": {},
   "source": [
    "* 4.8 (pg. 74)\n",
    "> Calculate the hyperbolic angle betweeen the sides AC and AB of triangle ABC illustrated in Figure 4.8."
   ]
  },
  {
   "cell_type": "markdown",
   "metadata": {},
   "source": [
    "* 4.12 (pg. 75)\n",
    "> (a) Show explicitly that the straight line path between any two points in flat three-dimensional space ($dS^2=dx^2+dy^2+dz^2$) is the shortest distance between them. <br>\n",
    "(b) Is the straight line path between two spacelike separated points in flat spacetime the shortest distance between them?"
   ]
  },
  {
   "cell_type": "markdown",
   "metadata": {},
   "source": [
    "* 4.18 (pg. 76)\n",
    "> Show that for two timelike separated events, there is some inertial frame in which $\\Delta t \\neq 0,\\Delta \\vec{x} = 0$. Show that for two spacelike separated events there is an inertial frame where $\\Delta t = 0,\\Delta \\vec{x} \\neq 0$."
   ]
  }
 ],
 "metadata": {
  "kernelspec": {
   "display_name": "Python 3",
   "language": "python",
   "name": "python3"
  },
  "language_info": {
   "codemirror_mode": {
    "name": "ipython",
    "version": 3
   },
   "file_extension": ".py",
   "mimetype": "text/x-python",
   "name": "python",
   "nbconvert_exporter": "python",
   "pygments_lexer": "ipython3",
   "version": "3.6.9"
  }
 },
 "nbformat": 4,
 "nbformat_minor": 4
}
